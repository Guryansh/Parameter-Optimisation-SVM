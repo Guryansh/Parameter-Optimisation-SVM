{
  "cells": [
    {
      "cell_type": "markdown",
      "metadata": {
        "id": "view-in-github",
        "colab_type": "text"
      },
      "source": [
        "<a href=\"https://colab.research.google.com/github/Guryansh/Parameter-Optimisation-SVM/blob/main/Paramter_Optimisation_SVM.ipynb\" target=\"_parent\"><img src=\"https://colab.research.google.com/assets/colab-badge.svg\" alt=\"Open In Colab\"/></a>"
      ]
    },
    {
      "cell_type": "code",
      "execution_count": 2,
      "metadata": {
        "id": "25Hc6LT_YpCe"
      },
      "outputs": [],
      "source": [
        "import pandas as pd\n",
        "import numpy as np\n",
        "import matplotlib.pyplot as plt\n",
        "import seaborn as sns\n",
        "from sklearn import datasets\n",
        "from sklearn.model_selection import train_test_split, GridSearchCV, learning_curve\n",
        "from sklearn.svm import SVC\n",
        "from sklearn.metrics import accuracy_score\n",
        "from sklearn.preprocessing import StandardScaler\n",
        "import warnings\n",
        "\n",
        "warnings.filterwarnings('ignore')"
      ]
    },
    {
      "cell_type": "code",
      "execution_count": 7,
      "metadata": {
        "colab": {
          "base_uri": "https://localhost:8080/",
          "height": 226
        },
        "id": "iq3Q65M9YpCg",
        "outputId": "dc92c1dc-f55b-4108-e0aa-927301d35027"
      },
      "outputs": [
        {
          "output_type": "execute_result",
          "data": {
            "text/plain": [
              "         Date      Time  S1_Temp  S2_Temp  S3_Temp  S4_Temp  S1_Light  \\\n",
              "0  2017/12/22  10:49:41    24.94    24.75    24.56    25.38       121   \n",
              "1  2017/12/22  10:50:12    24.94    24.75    24.56    25.44       121   \n",
              "2  2017/12/22  10:50:42    25.00    24.75    24.50    25.44       121   \n",
              "3  2017/12/22  10:51:13    25.00    24.75    24.56    25.44       121   \n",
              "4  2017/12/22  10:51:44    25.00    24.75    24.56    25.44       121   \n",
              "\n",
              "   S2_Light  S3_Light  S4_Light  S1_Sound  S2_Sound  S3_Sound  S4_Sound  \\\n",
              "0        34        53        40      0.08      0.19      0.06      0.06   \n",
              "1        33        53        40      0.93      0.05      0.06      0.06   \n",
              "2        34        53        40      0.43      0.11      0.08      0.06   \n",
              "3        34        53        40      0.41      0.10      0.10      0.09   \n",
              "4        34        54        40      0.18      0.06      0.06      0.06   \n",
              "\n",
              "   S5_CO2  S5_CO2_Slope  S6_PIR  S7_PIR  Room_Occupancy_Count  \n",
              "0     390      0.769231       0       0                     1  \n",
              "1     390      0.646154       0       0                     1  \n",
              "2     390      0.519231       0       0                     1  \n",
              "3     390      0.388462       0       0                     1  \n",
              "4     390      0.253846       0       0                     1  "
            ],
            "text/html": [
              "\n",
              "  <div id=\"df-3fa3fa70-5ac8-4fe4-b47f-6adbd3facd19\" class=\"colab-df-container\">\n",
              "    <div>\n",
              "<style scoped>\n",
              "    .dataframe tbody tr th:only-of-type {\n",
              "        vertical-align: middle;\n",
              "    }\n",
              "\n",
              "    .dataframe tbody tr th {\n",
              "        vertical-align: top;\n",
              "    }\n",
              "\n",
              "    .dataframe thead th {\n",
              "        text-align: right;\n",
              "    }\n",
              "</style>\n",
              "<table border=\"1\" class=\"dataframe\">\n",
              "  <thead>\n",
              "    <tr style=\"text-align: right;\">\n",
              "      <th></th>\n",
              "      <th>Date</th>\n",
              "      <th>Time</th>\n",
              "      <th>S1_Temp</th>\n",
              "      <th>S2_Temp</th>\n",
              "      <th>S3_Temp</th>\n",
              "      <th>S4_Temp</th>\n",
              "      <th>S1_Light</th>\n",
              "      <th>S2_Light</th>\n",
              "      <th>S3_Light</th>\n",
              "      <th>S4_Light</th>\n",
              "      <th>S1_Sound</th>\n",
              "      <th>S2_Sound</th>\n",
              "      <th>S3_Sound</th>\n",
              "      <th>S4_Sound</th>\n",
              "      <th>S5_CO2</th>\n",
              "      <th>S5_CO2_Slope</th>\n",
              "      <th>S6_PIR</th>\n",
              "      <th>S7_PIR</th>\n",
              "      <th>Room_Occupancy_Count</th>\n",
              "    </tr>\n",
              "  </thead>\n",
              "  <tbody>\n",
              "    <tr>\n",
              "      <th>0</th>\n",
              "      <td>2017/12/22</td>\n",
              "      <td>10:49:41</td>\n",
              "      <td>24.94</td>\n",
              "      <td>24.75</td>\n",
              "      <td>24.56</td>\n",
              "      <td>25.38</td>\n",
              "      <td>121</td>\n",
              "      <td>34</td>\n",
              "      <td>53</td>\n",
              "      <td>40</td>\n",
              "      <td>0.08</td>\n",
              "      <td>0.19</td>\n",
              "      <td>0.06</td>\n",
              "      <td>0.06</td>\n",
              "      <td>390</td>\n",
              "      <td>0.769231</td>\n",
              "      <td>0</td>\n",
              "      <td>0</td>\n",
              "      <td>1</td>\n",
              "    </tr>\n",
              "    <tr>\n",
              "      <th>1</th>\n",
              "      <td>2017/12/22</td>\n",
              "      <td>10:50:12</td>\n",
              "      <td>24.94</td>\n",
              "      <td>24.75</td>\n",
              "      <td>24.56</td>\n",
              "      <td>25.44</td>\n",
              "      <td>121</td>\n",
              "      <td>33</td>\n",
              "      <td>53</td>\n",
              "      <td>40</td>\n",
              "      <td>0.93</td>\n",
              "      <td>0.05</td>\n",
              "      <td>0.06</td>\n",
              "      <td>0.06</td>\n",
              "      <td>390</td>\n",
              "      <td>0.646154</td>\n",
              "      <td>0</td>\n",
              "      <td>0</td>\n",
              "      <td>1</td>\n",
              "    </tr>\n",
              "    <tr>\n",
              "      <th>2</th>\n",
              "      <td>2017/12/22</td>\n",
              "      <td>10:50:42</td>\n",
              "      <td>25.00</td>\n",
              "      <td>24.75</td>\n",
              "      <td>24.50</td>\n",
              "      <td>25.44</td>\n",
              "      <td>121</td>\n",
              "      <td>34</td>\n",
              "      <td>53</td>\n",
              "      <td>40</td>\n",
              "      <td>0.43</td>\n",
              "      <td>0.11</td>\n",
              "      <td>0.08</td>\n",
              "      <td>0.06</td>\n",
              "      <td>390</td>\n",
              "      <td>0.519231</td>\n",
              "      <td>0</td>\n",
              "      <td>0</td>\n",
              "      <td>1</td>\n",
              "    </tr>\n",
              "    <tr>\n",
              "      <th>3</th>\n",
              "      <td>2017/12/22</td>\n",
              "      <td>10:51:13</td>\n",
              "      <td>25.00</td>\n",
              "      <td>24.75</td>\n",
              "      <td>24.56</td>\n",
              "      <td>25.44</td>\n",
              "      <td>121</td>\n",
              "      <td>34</td>\n",
              "      <td>53</td>\n",
              "      <td>40</td>\n",
              "      <td>0.41</td>\n",
              "      <td>0.10</td>\n",
              "      <td>0.10</td>\n",
              "      <td>0.09</td>\n",
              "      <td>390</td>\n",
              "      <td>0.388462</td>\n",
              "      <td>0</td>\n",
              "      <td>0</td>\n",
              "      <td>1</td>\n",
              "    </tr>\n",
              "    <tr>\n",
              "      <th>4</th>\n",
              "      <td>2017/12/22</td>\n",
              "      <td>10:51:44</td>\n",
              "      <td>25.00</td>\n",
              "      <td>24.75</td>\n",
              "      <td>24.56</td>\n",
              "      <td>25.44</td>\n",
              "      <td>121</td>\n",
              "      <td>34</td>\n",
              "      <td>54</td>\n",
              "      <td>40</td>\n",
              "      <td>0.18</td>\n",
              "      <td>0.06</td>\n",
              "      <td>0.06</td>\n",
              "      <td>0.06</td>\n",
              "      <td>390</td>\n",
              "      <td>0.253846</td>\n",
              "      <td>0</td>\n",
              "      <td>0</td>\n",
              "      <td>1</td>\n",
              "    </tr>\n",
              "  </tbody>\n",
              "</table>\n",
              "</div>\n",
              "    <div class=\"colab-df-buttons\">\n",
              "\n",
              "  <div class=\"colab-df-container\">\n",
              "    <button class=\"colab-df-convert\" onclick=\"convertToInteractive('df-3fa3fa70-5ac8-4fe4-b47f-6adbd3facd19')\"\n",
              "            title=\"Convert this dataframe to an interactive table.\"\n",
              "            style=\"display:none;\">\n",
              "\n",
              "  <svg xmlns=\"http://www.w3.org/2000/svg\" height=\"24px\" viewBox=\"0 -960 960 960\">\n",
              "    <path d=\"M120-120v-720h720v720H120Zm60-500h600v-160H180v160Zm220 220h160v-160H400v160Zm0 220h160v-160H400v160ZM180-400h160v-160H180v160Zm440 0h160v-160H620v160ZM180-180h160v-160H180v160Zm440 0h160v-160H620v160Z\"/>\n",
              "  </svg>\n",
              "    </button>\n",
              "\n",
              "  <style>\n",
              "    .colab-df-container {\n",
              "      display:flex;\n",
              "      gap: 12px;\n",
              "    }\n",
              "\n",
              "    .colab-df-convert {\n",
              "      background-color: #E8F0FE;\n",
              "      border: none;\n",
              "      border-radius: 50%;\n",
              "      cursor: pointer;\n",
              "      display: none;\n",
              "      fill: #1967D2;\n",
              "      height: 32px;\n",
              "      padding: 0 0 0 0;\n",
              "      width: 32px;\n",
              "    }\n",
              "\n",
              "    .colab-df-convert:hover {\n",
              "      background-color: #E2EBFA;\n",
              "      box-shadow: 0px 1px 2px rgba(60, 64, 67, 0.3), 0px 1px 3px 1px rgba(60, 64, 67, 0.15);\n",
              "      fill: #174EA6;\n",
              "    }\n",
              "\n",
              "    .colab-df-buttons div {\n",
              "      margin-bottom: 4px;\n",
              "    }\n",
              "\n",
              "    [theme=dark] .colab-df-convert {\n",
              "      background-color: #3B4455;\n",
              "      fill: #D2E3FC;\n",
              "    }\n",
              "\n",
              "    [theme=dark] .colab-df-convert:hover {\n",
              "      background-color: #434B5C;\n",
              "      box-shadow: 0px 1px 3px 1px rgba(0, 0, 0, 0.15);\n",
              "      filter: drop-shadow(0px 1px 2px rgba(0, 0, 0, 0.3));\n",
              "      fill: #FFFFFF;\n",
              "    }\n",
              "  </style>\n",
              "\n",
              "    <script>\n",
              "      const buttonEl =\n",
              "        document.querySelector('#df-3fa3fa70-5ac8-4fe4-b47f-6adbd3facd19 button.colab-df-convert');\n",
              "      buttonEl.style.display =\n",
              "        google.colab.kernel.accessAllowed ? 'block' : 'none';\n",
              "\n",
              "      async function convertToInteractive(key) {\n",
              "        const element = document.querySelector('#df-3fa3fa70-5ac8-4fe4-b47f-6adbd3facd19');\n",
              "        const dataTable =\n",
              "          await google.colab.kernel.invokeFunction('convertToInteractive',\n",
              "                                                    [key], {});\n",
              "        if (!dataTable) return;\n",
              "\n",
              "        const docLinkHtml = 'Like what you see? Visit the ' +\n",
              "          '<a target=\"_blank\" href=https://colab.research.google.com/notebooks/data_table.ipynb>data table notebook</a>'\n",
              "          + ' to learn more about interactive tables.';\n",
              "        element.innerHTML = '';\n",
              "        dataTable['output_type'] = 'display_data';\n",
              "        await google.colab.output.renderOutput(dataTable, element);\n",
              "        const docLink = document.createElement('div');\n",
              "        docLink.innerHTML = docLinkHtml;\n",
              "        element.appendChild(docLink);\n",
              "      }\n",
              "    </script>\n",
              "  </div>\n",
              "\n",
              "\n",
              "<div id=\"df-6015e974-0085-441d-8f00-42e7b452b300\">\n",
              "  <button class=\"colab-df-quickchart\" onclick=\"quickchart('df-6015e974-0085-441d-8f00-42e7b452b300')\"\n",
              "            title=\"Suggest charts\"\n",
              "            style=\"display:none;\">\n",
              "\n",
              "<svg xmlns=\"http://www.w3.org/2000/svg\" height=\"24px\"viewBox=\"0 0 24 24\"\n",
              "     width=\"24px\">\n",
              "    <g>\n",
              "        <path d=\"M19 3H5c-1.1 0-2 .9-2 2v14c0 1.1.9 2 2 2h14c1.1 0 2-.9 2-2V5c0-1.1-.9-2-2-2zM9 17H7v-7h2v7zm4 0h-2V7h2v10zm4 0h-2v-4h2v4z\"/>\n",
              "    </g>\n",
              "</svg>\n",
              "  </button>\n",
              "\n",
              "<style>\n",
              "  .colab-df-quickchart {\n",
              "      --bg-color: #E8F0FE;\n",
              "      --fill-color: #1967D2;\n",
              "      --hover-bg-color: #E2EBFA;\n",
              "      --hover-fill-color: #174EA6;\n",
              "      --disabled-fill-color: #AAA;\n",
              "      --disabled-bg-color: #DDD;\n",
              "  }\n",
              "\n",
              "  [theme=dark] .colab-df-quickchart {\n",
              "      --bg-color: #3B4455;\n",
              "      --fill-color: #D2E3FC;\n",
              "      --hover-bg-color: #434B5C;\n",
              "      --hover-fill-color: #FFFFFF;\n",
              "      --disabled-bg-color: #3B4455;\n",
              "      --disabled-fill-color: #666;\n",
              "  }\n",
              "\n",
              "  .colab-df-quickchart {\n",
              "    background-color: var(--bg-color);\n",
              "    border: none;\n",
              "    border-radius: 50%;\n",
              "    cursor: pointer;\n",
              "    display: none;\n",
              "    fill: var(--fill-color);\n",
              "    height: 32px;\n",
              "    padding: 0;\n",
              "    width: 32px;\n",
              "  }\n",
              "\n",
              "  .colab-df-quickchart:hover {\n",
              "    background-color: var(--hover-bg-color);\n",
              "    box-shadow: 0 1px 2px rgba(60, 64, 67, 0.3), 0 1px 3px 1px rgba(60, 64, 67, 0.15);\n",
              "    fill: var(--button-hover-fill-color);\n",
              "  }\n",
              "\n",
              "  .colab-df-quickchart-complete:disabled,\n",
              "  .colab-df-quickchart-complete:disabled:hover {\n",
              "    background-color: var(--disabled-bg-color);\n",
              "    fill: var(--disabled-fill-color);\n",
              "    box-shadow: none;\n",
              "  }\n",
              "\n",
              "  .colab-df-spinner {\n",
              "    border: 2px solid var(--fill-color);\n",
              "    border-color: transparent;\n",
              "    border-bottom-color: var(--fill-color);\n",
              "    animation:\n",
              "      spin 1s steps(1) infinite;\n",
              "  }\n",
              "\n",
              "  @keyframes spin {\n",
              "    0% {\n",
              "      border-color: transparent;\n",
              "      border-bottom-color: var(--fill-color);\n",
              "      border-left-color: var(--fill-color);\n",
              "    }\n",
              "    20% {\n",
              "      border-color: transparent;\n",
              "      border-left-color: var(--fill-color);\n",
              "      border-top-color: var(--fill-color);\n",
              "    }\n",
              "    30% {\n",
              "      border-color: transparent;\n",
              "      border-left-color: var(--fill-color);\n",
              "      border-top-color: var(--fill-color);\n",
              "      border-right-color: var(--fill-color);\n",
              "    }\n",
              "    40% {\n",
              "      border-color: transparent;\n",
              "      border-right-color: var(--fill-color);\n",
              "      border-top-color: var(--fill-color);\n",
              "    }\n",
              "    60% {\n",
              "      border-color: transparent;\n",
              "      border-right-color: var(--fill-color);\n",
              "    }\n",
              "    80% {\n",
              "      border-color: transparent;\n",
              "      border-right-color: var(--fill-color);\n",
              "      border-bottom-color: var(--fill-color);\n",
              "    }\n",
              "    90% {\n",
              "      border-color: transparent;\n",
              "      border-bottom-color: var(--fill-color);\n",
              "    }\n",
              "  }\n",
              "</style>\n",
              "\n",
              "  <script>\n",
              "    async function quickchart(key) {\n",
              "      const quickchartButtonEl =\n",
              "        document.querySelector('#' + key + ' button');\n",
              "      quickchartButtonEl.disabled = true;  // To prevent multiple clicks.\n",
              "      quickchartButtonEl.classList.add('colab-df-spinner');\n",
              "      try {\n",
              "        const charts = await google.colab.kernel.invokeFunction(\n",
              "            'suggestCharts', [key], {});\n",
              "      } catch (error) {\n",
              "        console.error('Error during call to suggestCharts:', error);\n",
              "      }\n",
              "      quickchartButtonEl.classList.remove('colab-df-spinner');\n",
              "      quickchartButtonEl.classList.add('colab-df-quickchart-complete');\n",
              "    }\n",
              "    (() => {\n",
              "      let quickchartButtonEl =\n",
              "        document.querySelector('#df-6015e974-0085-441d-8f00-42e7b452b300 button');\n",
              "      quickchartButtonEl.style.display =\n",
              "        google.colab.kernel.accessAllowed ? 'block' : 'none';\n",
              "    })();\n",
              "  </script>\n",
              "</div>\n",
              "\n",
              "    </div>\n",
              "  </div>\n"
            ],
            "application/vnd.google.colaboratory.intrinsic+json": {
              "type": "dataframe",
              "variable_name": "dataset",
              "summary": "{\n  \"name\": \"dataset\",\n  \"rows\": 10129,\n  \"fields\": [\n    {\n      \"column\": \"Date\",\n      \"properties\": {\n        \"dtype\": \"object\",\n        \"num_unique_values\": 7,\n        \"samples\": [\n          \"2017/12/22\",\n          \"2017/12/23\",\n          \"2018/01/10\"\n        ],\n        \"semantic_type\": \"\",\n        \"description\": \"\"\n      }\n    },\n    {\n      \"column\": \"Time\",\n      \"properties\": {\n        \"dtype\": \"object\",\n        \"num_unique_values\": 10129,\n        \"samples\": [\n          \"22:03:33\",\n          \"15:52:28\",\n          \"21:21:47\"\n        ],\n        \"semantic_type\": \"\",\n        \"description\": \"\"\n      }\n    },\n    {\n      \"column\": \"S1_Temp\",\n      \"properties\": {\n        \"dtype\": \"number\",\n        \"std\": 0.3513505513880616,\n        \"min\": 24.94,\n        \"max\": 26.38,\n        \"num_unique_values\": 24,\n        \"samples\": [\n          25.44,\n          26.0,\n          24.94\n        ],\n        \"semantic_type\": \"\",\n        \"description\": \"\"\n      }\n    },\n    {\n      \"column\": \"S2_Temp\",\n      \"properties\": {\n        \"dtype\": \"number\",\n        \"std\": 0.5863254509673892,\n        \"min\": 24.75,\n        \"max\": 29.0,\n        \"num_unique_values\": 69,\n        \"samples\": [\n          27.5,\n          24.75,\n          28.94\n        ],\n        \"semantic_type\": \"\",\n        \"description\": \"\"\n      }\n    },\n    {\n      \"column\": \"S3_Temp\",\n      \"properties\": {\n        \"dtype\": \"number\",\n        \"std\": 0.42728250832190817,\n        \"min\": 24.44,\n        \"max\": 26.19,\n        \"num_unique_values\": 29,\n        \"samples\": [\n          25.44,\n          25.56,\n          25.25\n        ],\n        \"semantic_type\": \"\",\n        \"description\": \"\"\n      }\n    },\n    {\n      \"column\": \"S4_Temp\",\n      \"properties\": {\n        \"dtype\": \"number\",\n        \"std\": 0.35643407168653635,\n        \"min\": 24.94,\n        \"max\": 26.56,\n        \"num_unique_values\": 27,\n        \"samples\": [\n          25.88,\n          26.19,\n          25.94\n        ],\n        \"semantic_type\": \"\",\n        \"description\": \"\"\n      }\n    },\n    {\n      \"column\": \"S1_Light\",\n      \"properties\": {\n        \"dtype\": \"number\",\n        \"std\": 51,\n        \"min\": 0,\n        \"max\": 165,\n        \"num_unique_values\": 68,\n        \"samples\": [\n          2,\n          164,\n          123\n        ],\n        \"semantic_type\": \"\",\n        \"description\": \"\"\n      }\n    },\n    {\n      \"column\": \"S2_Light\",\n      \"properties\": {\n        \"dtype\": \"number\",\n        \"std\": 67,\n        \"min\": 0,\n        \"max\": 258,\n        \"num_unique_values\": 82,\n        \"samples\": [\n          253,\n          34,\n          245\n        ],\n        \"semantic_type\": \"\",\n        \"description\": \"\"\n      }\n    },\n    {\n      \"column\": \"S3_Light\",\n      \"properties\": {\n        \"dtype\": \"number\",\n        \"std\": 58,\n        \"min\": 0,\n        \"max\": 280,\n        \"num_unique_values\": 177,\n        \"samples\": [\n          74,\n          267,\n          5\n        ],\n        \"semantic_type\": \"\",\n        \"description\": \"\"\n      }\n    },\n    {\n      \"column\": \"S4_Light\",\n      \"properties\": {\n        \"dtype\": \"number\",\n        \"std\": 19,\n        \"min\": 0,\n        \"max\": 74,\n        \"num_unique_values\": 75,\n        \"samples\": [\n          45,\n          11,\n          53\n        ],\n        \"semantic_type\": \"\",\n        \"description\": \"\"\n      }\n    },\n    {\n      \"column\": \"S1_Sound\",\n      \"properties\": {\n        \"dtype\": \"number\",\n        \"std\": 0.3167091032568932,\n        \"min\": 0.06,\n        \"max\": 3.88,\n        \"num_unique_values\": 231,\n        \"samples\": [\n          1.47,\n          0.45,\n          2.2\n        ],\n        \"semantic_type\": \"\",\n        \"description\": \"\"\n      }\n    },\n    {\n      \"column\": \"S2_Sound\",\n      \"properties\": {\n        \"dtype\": \"number\",\n        \"std\": 0.2665025022337465,\n        \"min\": 0.04,\n        \"max\": 3.44,\n        \"num_unique_values\": 185,\n        \"samples\": [\n          0.24,\n          1.24,\n          0.85\n        ],\n        \"semantic_type\": \"\",\n        \"description\": \"\"\n      }\n    },\n    {\n      \"column\": \"S3_Sound\",\n      \"properties\": {\n        \"dtype\": \"number\",\n        \"std\": 0.41363661348885455,\n        \"min\": 0.04,\n        \"max\": 3.67,\n        \"num_unique_values\": 258,\n        \"samples\": [\n          1.03,\n          1.01,\n          0.12\n        ],\n        \"semantic_type\": \"\",\n        \"description\": \"\"\n      }\n    },\n    {\n      \"column\": \"S4_Sound\",\n      \"properties\": {\n        \"dtype\": \"number\",\n        \"std\": 0.12068279538984306,\n        \"min\": 0.05,\n        \"max\": 3.4,\n        \"num_unique_values\": 106,\n        \"samples\": [\n          0.8,\n          0.11,\n          0.13\n        ],\n        \"semantic_type\": \"\",\n        \"description\": \"\"\n      }\n    },\n    {\n      \"column\": \"S5_CO2\",\n      \"properties\": {\n        \"dtype\": \"number\",\n        \"std\": 199,\n        \"min\": 345,\n        \"max\": 1270,\n        \"num_unique_values\": 186,\n        \"samples\": [\n          985,\n          1230,\n          1005\n        ],\n        \"semantic_type\": \"\",\n        \"description\": \"\"\n      }\n    },\n    {\n      \"column\": \"S5_CO2_Slope\",\n      \"properties\": {\n        \"dtype\": \"number\",\n        \"std\": 1.1649895813031297,\n        \"min\": -6.29615384615,\n        \"max\": 8.98076923077,\n        \"num_unique_values\": 1579,\n        \"samples\": [\n          2.23461538462,\n          -2.17307692308,\n          -1.25769230769\n        ],\n        \"semantic_type\": \"\",\n        \"description\": \"\"\n      }\n    },\n    {\n      \"column\": \"S6_PIR\",\n      \"properties\": {\n        \"dtype\": \"number\",\n        \"std\": 0,\n        \"min\": 0,\n        \"max\": 1,\n        \"num_unique_values\": 2,\n        \"samples\": [\n          1,\n          0\n        ],\n        \"semantic_type\": \"\",\n        \"description\": \"\"\n      }\n    },\n    {\n      \"column\": \"S7_PIR\",\n      \"properties\": {\n        \"dtype\": \"number\",\n        \"std\": 0,\n        \"min\": 0,\n        \"max\": 1,\n        \"num_unique_values\": 2,\n        \"samples\": [\n          1,\n          0\n        ],\n        \"semantic_type\": \"\",\n        \"description\": \"\"\n      }\n    },\n    {\n      \"column\": \"Room_Occupancy_Count\",\n      \"properties\": {\n        \"dtype\": \"number\",\n        \"std\": 0,\n        \"min\": 0,\n        \"max\": 3,\n        \"num_unique_values\": 4,\n        \"samples\": [\n          2,\n          0\n        ],\n        \"semantic_type\": \"\",\n        \"description\": \"\"\n      }\n    }\n  ]\n}"
            }
          },
          "metadata": {},
          "execution_count": 7
        }
      ],
      "source": [
        "dataset = pd.read_csv('Room_Occupancy_Data.csv')  # Changed the file name\n",
        "dataset.head()"
      ]
    },
    {
      "cell_type": "code",
      "execution_count": 8,
      "metadata": {
        "colab": {
          "base_uri": "https://localhost:8080/"
        },
        "id": "x8rD-eqBYpCi",
        "outputId": "62c738ca-111f-4eb3-b75f-eab855d20e15"
      },
      "outputs": [
        {
          "output_type": "stream",
          "name": "stdout",
          "text": [
            "Dataset shape: (10129, 19)\n",
            "Missing values per column:\n",
            " Date                    0\n",
            "Time                    0\n",
            "S1_Temp                 0\n",
            "S2_Temp                 0\n",
            "S3_Temp                 0\n",
            "S4_Temp                 0\n",
            "S1_Light                0\n",
            "S2_Light                0\n",
            "S3_Light                0\n",
            "S4_Light                0\n",
            "S1_Sound                0\n",
            "S2_Sound                0\n",
            "S3_Sound                0\n",
            "S4_Sound                0\n",
            "S5_CO2                  0\n",
            "S5_CO2_Slope            0\n",
            "S6_PIR                  0\n",
            "S7_PIR                  0\n",
            "Room_Occupancy_Count    0\n",
            "dtype: int64\n"
          ]
        }
      ],
      "source": [
        "# Check dataset structure and handle missing values\n",
        "print(\"Dataset shape:\", dataset.shape)\n",
        "print(\"Missing values per column:\\n\", dataset.isnull().sum())"
      ]
    },
    {
      "cell_type": "code",
      "execution_count": 9,
      "metadata": {
        "id": "YTJgNedxYpCj"
      },
      "outputs": [],
      "source": [
        "# Drop unnecessary columns\n",
        "dataset = dataset.drop(['Date', 'Time'], axis=1)"
      ]
    },
    {
      "cell_type": "code",
      "execution_count": 10,
      "metadata": {
        "colab": {
          "base_uri": "https://localhost:8080/",
          "height": 466
        },
        "id": "93ZE81YAYpCj",
        "outputId": "a8f7aafe-bd5b-430b-e189-a5a7f7bc5a0f"
      },
      "outputs": [
        {
          "output_type": "execute_result",
          "data": {
            "text/plain": [
              "<Axes: xlabel='Room_Occupancy_Count', ylabel='count'>"
            ]
          },
          "metadata": {},
          "execution_count": 10
        },
        {
          "output_type": "display_data",
          "data": {
            "text/plain": [
              "<Figure size 640x480 with 1 Axes>"
            ],
            "image/png": "[encoded data removed]"
          },
          "metadata": {}
        }
      ],
      "source": [
        "# Visualize the target variable distribution\n",
        "sns.countplot(x='Room_Occupancy_Count', data=dataset)"
      ]
    },
    {
      "cell_type": "code",
      "execution_count": 11,
      "metadata": {
        "id": "kFoHwcORYpCk"
      },
      "outputs": [],
      "source": [
        "# Separate features and target\n",
        "X = dataset.iloc[:, :-1]\n",
        "y = dataset['Room_Occupancy_Count']"
      ]
    },
    {
      "cell_type": "code",
      "execution_count": 12,
      "metadata": {
        "id": "VzBgWj4LYpCk"
      },
      "outputs": [],
      "source": [
        "# Standardize features\n",
        "scaler = StandardScaler()\n",
        "X = scaler.fit_transform(X)"
      ]
    },
    {
      "cell_type": "code",
      "execution_count": 13,
      "metadata": {
        "id": "z0vp-YvMYpCk"
      },
      "outputs": [],
      "source": [
        "# Generate multiple train-test splits\n",
        "samples = []\n",
        "for i in range(10):\n",
        "    X_train, X_test, y_train, y_test = train_test_split(X, y, test_size=0.3, random_state=i)\n",
        "    samples.append((X_train, X_test, y_train, y_test))"
      ]
    },
    {
      "cell_type": "code",
      "execution_count": 14,
      "metadata": {
        "id": "PCAl1WsmYpCk"
      },
      "outputs": [],
      "source": [
        "# Initialize kernels for SVM\n",
        "kernels = ['linear', 'poly', 'rbf', 'sigmoid']\n",
        "result = pd.DataFrame(columns=['Sample', 'Best Accuracy', 'Best Kernel', 'Best Nu', 'Best Epsilon'])\n"
      ]
    },
    {
      "cell_type": "code",
      "execution_count": 15,
      "metadata": {
        "id": "kq0DODKkYpCl"
      },
      "outputs": [],
      "source": [
        "# Fitness function for SVM accuracy calculation\n",
        "def fitness_function(kernel, C, gamma):\n",
        "    svm = SVC(kernel=kernel, C=C, gamma=gamma, max_iter=1000)\n",
        "    svm.fit(X_train, y_train)\n",
        "    y_pred = svm.predict(X_test)\n",
        "    return accuracy_score(y_pred, y_test)"
      ]
    },
    {
      "cell_type": "code",
      "execution_count": 16,
      "metadata": {
        "colab": {
          "base_uri": "https://localhost:8080/"
        },
        "id": "vb3AB88MYpCl",
        "outputId": "a2daf717-5c8d-4773-f7b5-fd11ada3581f"
      },
      "outputs": [
        {
          "output_type": "stream",
          "name": "stdout",
          "text": [
            "Sample 1: Best Accuracy = 0.97, Best Kernel = linear, Best Nu = 9.78, Best Epsilon = 5.02\n",
            "Sample 2: Best Accuracy = 0.99, Best Kernel = linear, Best Nu = 2.42, Best Epsilon = 2.22\n",
            "Sample 3: Best Accuracy = 1.0, Best Kernel = linear, Best Nu = 0.69, Best Epsilon = 9.2\n",
            "Sample 4: Best Accuracy = 0.99, Best Kernel = poly, Best Nu = 5.0, Best Epsilon = 1.02\n",
            "Sample 5: Best Accuracy = 0.99, Best Kernel = poly, Best Nu = 7.84, Best Epsilon = 5.36\n",
            "Sample 6: Best Accuracy = 0.99, Best Kernel = poly, Best Nu = 5.07, Best Epsilon = 8.71\n",
            "Sample 7: Best Accuracy = 0.99, Best Kernel = linear, Best Nu = 2.98, Best Epsilon = 2.78\n",
            "Sample 8: Best Accuracy = 0.99, Best Kernel = poly, Best Nu = 0.79, Best Epsilon = 9.36\n",
            "Sample 9: Best Accuracy = 0.99, Best Kernel = poly, Best Nu = 4.79, Best Epsilon = 7.91\n",
            "Sample 10: Best Accuracy = 0.98, Best Kernel = poly, Best Nu = 4.23, Best Epsilon = 2.48\n"
          ]
        }
      ],
      "source": [
        "# Perform optimization over samples\n",
        "for i in range(len(samples)):\n",
        "    best_accuracy = 0\n",
        "    best_C = 0\n",
        "    best_gamma = 0\n",
        "    best_kernel = \"\"\n",
        "\n",
        "    for kernel in kernels:\n",
        "        X_train, X_test, y_train, y_test = samples[i]\n",
        "        C = np.random.uniform(0.1, 10)  # Adjusted range slightly for better diversity\n",
        "        gamma = np.random.uniform(0.1, 10)\n",
        "        score = fitness_function(kernel, C, gamma)\n",
        "\n",
        "        if score > best_accuracy:\n",
        "            best_accuracy = round(score, 2)\n",
        "            best_C = round(C, 2)\n",
        "            best_gamma = round(gamma, 2)\n",
        "            best_kernel = kernel\n",
        "\n",
        "    print(f'Sample {i+1}: Best Accuracy = {best_accuracy}, Best Kernel = {best_kernel}, Best Nu = {best_C}, Best Epsilon = {best_gamma}')\n",
        "    result.loc[i] = [i+1, best_accuracy, best_kernel, best_C, best_gamma]\n"
      ]
    },
    {
      "cell_type": "code",
      "execution_count": 17,
      "metadata": {
        "id": "Wlc848l-YpCm"
      },
      "outputs": [],
      "source": [
        "# Select the sample with the best accuracy\n",
        "X_train, X_test, y_train, y_test = samples[result['Best Accuracy'].idxmax()]"
      ]
    },
    {
      "cell_type": "code",
      "execution_count": 18,
      "metadata": {
        "id": "95857j2iYpCm"
      },
      "outputs": [],
      "source": [
        "# Generate learning curve data\n",
        "train_sizes, train_scores, test_scores = learning_curve(\n",
        "    SVC(\n",
        "        kernel=result['Best Kernel'].iloc[result['Best Accuracy'].idxmax()],\n",
        "        C=result['Best Nu'].iloc[result['Best Accuracy'].idxmax()],\n",
        "        gamma=result['Best Epsilon'].iloc[result['Best Accuracy'].idxmax()],\n",
        "        max_iter=1000\n",
        "    ),\n",
        "    X_train, y_train, cv=10, scoring='accuracy', n_jobs=-1,\n",
        "    train_sizes=np.linspace(0.01, 1.0, 50)\n",
        ")"
      ]
    },
    {
      "cell_type": "code",
      "execution_count": 19,
      "metadata": {
        "id": "KD1_LOxjYpCm"
      },
      "outputs": [],
      "source": [
        "# Calculate mean training and cross-validation scores\n",
        "train_mean = np.mean(train_scores, axis=1)\n",
        "test_mean = np.mean(test_scores, axis=1)"
      ]
    },
    {
      "cell_type": "code",
      "execution_count": 20,
      "metadata": {
        "colab": {
          "base_uri": "https://localhost:8080/",
          "height": 564
        },
        "id": "hHGLE1DWYpCm",
        "outputId": "bce18720-b3ed-4e02-8a11-30f3880d34e4"
      },
      "outputs": [
        {
          "output_type": "display_data",
          "data": {
            "text/plain": [
              "<Figure size 1000x600 with 1 Axes>"
            ],
            "image/png": "[encoded data removed]"
          },
          "metadata": {}
        }
      ],
      "source": [
        "# Plot the convergence graph\n",
        "plt.figure(figsize=(10, 6))\n",
        "plt.plot(train_sizes, train_mean, label='Training Score', color='blue')\n",
        "plt.plot(train_sizes, test_mean, label='Cross-Validation Score', color='orange')\n",
        "plt.xlabel('Training Set Size')\n",
        "plt.ylabel('Accuracy')\n",
        "plt.title('Learning Curve')\n",
        "plt.legend(loc=\"best\")\n",
        "plt.grid(True)\n",
        "plt.show()"
      ]
    }
  ],
  "metadata": {
    "kernelspec": {
      "display_name": "Python 3",
      "language": "python",
      "name": "python3"
    },
    "language_info": {
      "codemirror_mode": {
        "name": "ipython",
        "version": 3
      },
      "file_extension": ".py",
      "mimetype": "text/x-python",
      "name": "python",
      "nbconvert_exporter": "python",
      "pygments_lexer": "ipython3",
      "version": "3.11.9"
    },
    "colab": {
      "provenance": [],
      "include_colab_link": true
    }
  },
  "nbformat": 4,
  "nbformat_minor": 0
}